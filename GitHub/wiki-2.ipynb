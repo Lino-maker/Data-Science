{
 "cells": [
  {
   "cell_type": "code",
   "execution_count": 1,
   "metadata": {},
   "outputs": [],
   "source": [
    "import time\n",
    "import urllib\n",
    "\n",
    "from bs4 import BeautifulSoup\n",
    "import requests"
   ]
  },
  {
   "cell_type": "code",
   "execution_count": 2,
   "metadata": {},
   "outputs": [],
   "source": [
    "def find_link(url):\n",
    "    \"\"\"\n",
    "    Returns the first wikipedia link found in the current page\n",
    "    \"\"\"\n",
    "    link = None\n",
    "\n",
    "    content = requests.get(url)\n",
    "    soup = BeautifulSoup(content.text)\n",
    "    \n",
    "    #  Select paragraphs\n",
    "    paragraphs = soup.select(\"p\")\n",
    "    for p in paragraphs:\n",
    "       if p.find(\"a\", recursive=True):\n",
    "            link = p.find(\"a\", recursive=True).get('href')\n",
    "            break\n",
    "            \n",
    "    if link:\n",
    "        # concatenate url\n",
    "        link = urllib.parse.urljoin('https://en.wikipedia.org/', link)\n",
    "        print(link)\n",
    "\n",
    "    return link"
   ]
  },
  {
   "cell_type": "code",
   "execution_count": 3,
   "metadata": {},
   "outputs": [],
   "source": [
    "def do_next(url_history, url_stop, max_iter=25):\n",
    "    \"\"\"\n",
    "    Check is the search needs to continue. Return a boolean.\n",
    "    \"\"\"\n",
    "    if url_history[-1] == url_stop:\n",
    "        print(\"Got it!\")\n",
    "        return False\n",
    "    elif len(url_history) > max_iter:\n",
    "        print(\"The search is too long, STOP!\")\n",
    "        return False\n",
    "    elif url_history[-1] in url_history[:-1]:\n",
    "        print(\"We are looping, STOP!\")\n",
    "        return False\n",
    "    else:\n",
    "#        print(\"We continue to investigate!\")\n",
    "        return True"
   ]
  },
  {
   "cell_type": "code",
   "execution_count": 4,
   "metadata": {},
   "outputs": [
    {
     "name": "stdout",
     "output_type": "stream",
     "text": [
      "start = https://en.wikipedia.org/wiki/Mathematics\n",
      "https://en.wikipedia.org/wiki/Ancient_Greek\n",
      "https://en.wikipedia.org/wiki/Greek_language\n",
      "https://en.wikipedia.org/wiki/Modern_Greek\n",
      "https://en.wikipedia.org/wiki/Dialect\n",
      "https://en.wikipedia.org/wiki/Latin\n",
      "https://en.wikipedia.org/wiki/Help:IPA/Latin\n",
      "https://en.wikipedia.org/wiki/International_Phonetic_Alphabet\n",
      "https://en.wikipedia.org/wiki/Alphabet\n",
      "https://en.wikipedia.org/wiki/Letter_(alphabet)\n",
      "https://en.wikipedia.org/wiki/Symbol\n",
      "https://en.wikipedia.org/wiki/Idea\n",
      "https://en.wikipedia.org/wiki/Philosophy\n",
      "Got it!\n",
      "distance = 13\n"
     ]
    }
   ],
   "source": [
    "#url_start = \"https://en.wikipedia.org/wiki/Special:Random\"\n",
    "url_start = \"https://en.wikipedia.org/wiki/Mathematics\"\n",
    "url_stop = \"https://en.wikipedia.org/wiki/Philosophy\"\n",
    "\n",
    "urls = []\n",
    "\n",
    "urls.append(url_start)\n",
    "print(\"start = {}\".format(urls[0]))\n",
    "\n",
    "while do_next(urls, url_stop):\n",
    "    link = find_link(urls[-1])\n",
    "    if not link:\n",
    "        print(\"No link found, stop search!\")\n",
    "        break\n",
    "\n",
    "    urls.append(link)\n",
    "    \n",
    "print(\"distance = {}\".format(len(urls)))"
   ]
  }
 ],
 "metadata": {
  "kernelspec": {
   "display_name": "Python 3",
   "language": "python",
   "name": "python3"
  },
  "language_info": {
   "codemirror_mode": {
    "name": "ipython",
    "version": 3
   },
   "file_extension": ".py",
   "mimetype": "text/x-python",
   "name": "python",
   "nbconvert_exporter": "python",
   "pygments_lexer": "ipython3",
   "version": "3.7.3"
  }
 },
 "nbformat": 4,
 "nbformat_minor": 4
}
